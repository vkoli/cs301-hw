{
 "cells": [
  {
   "cell_type": "code",
   "execution_count": 1,
   "metadata": {},
   "outputs": [],
   "source": [
    "# Author: Vrushali Ritesh Koli\n",
    "# Date: 2020/03/04\n",
    "# CS301-006, Professor Watson\n",
    "# HW5 Solution\n",
    "# Data visualization exercise and critique on a sample student class dataset\n",
    "# https://github.com/vkoli/cs301-hw\n",
    "# \n",
    "# master"
   ]
  },
  {
   "cell_type": "markdown",
   "metadata": {},
   "source": [
    "## General Set-Up"
   ]
  },
  {
   "cell_type": "code",
   "execution_count": 2,
   "metadata": {},
   "outputs": [],
   "source": [
    "import pandas as pd\n",
    "pd.set_option('display.max_columns', 999)\n",
    "import numpy as np\n",
    "import os\n",
    "\n",
    "##Visualization Libraries\n",
    "import matplotlib as mpl\n",
    "import matplotlib.pyplot as plt\n",
    "%matplotlib inline"
   ]
  },
  {
   "cell_type": "code",
   "execution_count": 3,
   "metadata": {},
   "outputs": [
    {
     "name": "stdout",
     "output_type": "stream",
     "text": [
      "/home/toph/Documents/cs301\r\n"
     ]
    }
   ],
   "source": [
    "!pwd"
   ]
  },
  {
   "cell_type": "code",
   "execution_count": 4,
   "metadata": {},
   "outputs": [
    {
     "data": {
      "text/html": [
       "<div>\n",
       "<style scoped>\n",
       "    .dataframe tbody tr th:only-of-type {\n",
       "        vertical-align: middle;\n",
       "    }\n",
       "\n",
       "    .dataframe tbody tr th {\n",
       "        vertical-align: top;\n",
       "    }\n",
       "\n",
       "    .dataframe thead th {\n",
       "        text-align: right;\n",
       "    }\n",
       "</style>\n",
       "<table border=\"1\" class=\"dataframe\">\n",
       "  <thead>\n",
       "    <tr style=\"text-align: right;\">\n",
       "      <th></th>\n",
       "      <th>Name</th>\n",
       "      <th>Midterm</th>\n",
       "      <th>Final</th>\n",
       "      <th>Attendance</th>\n",
       "      <th>HW</th>\n",
       "      <th>Final Average</th>\n",
       "      <th>Final Letter</th>\n",
       "      <th>Numeric Bin</th>\n",
       "      <th>Majors</th>\n",
       "    </tr>\n",
       "  </thead>\n",
       "  <tbody>\n",
       "    <tr>\n",
       "      <td>0</td>\n",
       "      <td>Ariel</td>\n",
       "      <td>89</td>\n",
       "      <td>92</td>\n",
       "      <td>9</td>\n",
       "      <td>9</td>\n",
       "      <td>86.0</td>\n",
       "      <td>B+</td>\n",
       "      <td>80.0</td>\n",
       "      <td>BNFO</td>\n",
       "    </tr>\n",
       "    <tr>\n",
       "      <td>1</td>\n",
       "      <td>Brody</td>\n",
       "      <td>92</td>\n",
       "      <td>93</td>\n",
       "      <td>10</td>\n",
       "      <td>9</td>\n",
       "      <td>89.0</td>\n",
       "      <td>A</td>\n",
       "      <td>80.0</td>\n",
       "      <td>BNFO</td>\n",
       "    </tr>\n",
       "    <tr>\n",
       "      <td>2</td>\n",
       "      <td>Debra</td>\n",
       "      <td>76</td>\n",
       "      <td>88</td>\n",
       "      <td>8</td>\n",
       "      <td>6</td>\n",
       "      <td>74.0</td>\n",
       "      <td>C+</td>\n",
       "      <td>70.0</td>\n",
       "      <td>MATH</td>\n",
       "    </tr>\n",
       "    <tr>\n",
       "      <td>3</td>\n",
       "      <td>Rex</td>\n",
       "      <td>90</td>\n",
       "      <td>83</td>\n",
       "      <td>10</td>\n",
       "      <td>10</td>\n",
       "      <td>88.0</td>\n",
       "      <td>B+</td>\n",
       "      <td>80.0</td>\n",
       "      <td>MATH</td>\n",
       "    </tr>\n",
       "    <tr>\n",
       "      <td>4</td>\n",
       "      <td>Jerry</td>\n",
       "      <td>67</td>\n",
       "      <td>85</td>\n",
       "      <td>7</td>\n",
       "      <td>5</td>\n",
       "      <td>66.0</td>\n",
       "      <td>D</td>\n",
       "      <td>60.0</td>\n",
       "      <td>BNFO</td>\n",
       "    </tr>\n",
       "  </tbody>\n",
       "</table>\n",
       "</div>"
      ],
      "text/plain": [
       "    Name  Midterm  Final  Attendance  HW  Final Average Final Letter  \\\n",
       "0  Ariel       89     92           9   9           86.0           B+   \n",
       "1  Brody       92     93          10   9           89.0            A   \n",
       "2  Debra       76     88           8   6           74.0           C+   \n",
       "3    Rex       90     83          10  10           88.0           B+   \n",
       "4  Jerry       67     85           7   5           66.0            D   \n",
       "\n",
       "   Numeric Bin Majors  \n",
       "0         80.0   BNFO  \n",
       "1         80.0   BNFO  \n",
       "2         70.0   MATH  \n",
       "3         80.0   MATH  \n",
       "4         60.0   BNFO  "
      ]
     },
     "execution_count": 4,
     "metadata": {},
     "output_type": "execute_result"
    }
   ],
   "source": [
    "data_dir = '/home/toph/Documents/cs301/'\n",
    "student_file = data_dir + 'student_class.csv'\n",
    "df = pd.read_csv(student_file, index_col=0)\n",
    "df.head()"
   ]
  },
  {
   "cell_type": "code",
   "execution_count": 5,
   "metadata": {},
   "outputs": [
    {
     "data": {
      "text/plain": [
       "(150, 9)"
      ]
     },
     "execution_count": 5,
     "metadata": {},
     "output_type": "execute_result"
    }
   ],
   "source": [
    "df.shape"
   ]
  },
  {
   "cell_type": "markdown",
   "metadata": {},
   "source": [
    "## Problem 1"
   ]
  },
  {
   "cell_type": "code",
   "execution_count": 6,
   "metadata": {},
   "outputs": [
    {
     "data": {
      "text/html": [
       "<div>\n",
       "<style scoped>\n",
       "    .dataframe tbody tr th:only-of-type {\n",
       "        vertical-align: middle;\n",
       "    }\n",
       "\n",
       "    .dataframe tbody tr th {\n",
       "        vertical-align: top;\n",
       "    }\n",
       "\n",
       "    .dataframe thead th {\n",
       "        text-align: right;\n",
       "    }\n",
       "</style>\n",
       "<table border=\"1\" class=\"dataframe\">\n",
       "  <thead>\n",
       "    <tr style=\"text-align: right;\">\n",
       "      <th></th>\n",
       "      <th>Majors</th>\n",
       "      <th>Midterm</th>\n",
       "      <th>Final</th>\n",
       "      <th>Final Average</th>\n",
       "    </tr>\n",
       "  </thead>\n",
       "  <tbody>\n",
       "    <tr>\n",
       "      <td>0</td>\n",
       "      <td>BNFO</td>\n",
       "      <td>NaN</td>\n",
       "      <td>NaN</td>\n",
       "      <td>NaN</td>\n",
       "    </tr>\n",
       "    <tr>\n",
       "      <td>1</td>\n",
       "      <td>MATH</td>\n",
       "      <td>NaN</td>\n",
       "      <td>NaN</td>\n",
       "      <td>NaN</td>\n",
       "    </tr>\n",
       "    <tr>\n",
       "      <td>2</td>\n",
       "      <td>IS</td>\n",
       "      <td>NaN</td>\n",
       "      <td>NaN</td>\n",
       "      <td>NaN</td>\n",
       "    </tr>\n",
       "    <tr>\n",
       "      <td>3</td>\n",
       "      <td>CS</td>\n",
       "      <td>NaN</td>\n",
       "      <td>NaN</td>\n",
       "      <td>NaN</td>\n",
       "    </tr>\n",
       "    <tr>\n",
       "      <td>4</td>\n",
       "      <td>IT</td>\n",
       "      <td>NaN</td>\n",
       "      <td>NaN</td>\n",
       "      <td>NaN</td>\n",
       "    </tr>\n",
       "  </tbody>\n",
       "</table>\n",
       "</div>"
      ],
      "text/plain": [
       "  Majors Midterm Final Final Average\n",
       "0   BNFO     NaN   NaN           NaN\n",
       "1   MATH     NaN   NaN           NaN\n",
       "2     IS     NaN   NaN           NaN\n",
       "3     CS     NaN   NaN           NaN\n",
       "4     IT     NaN   NaN           NaN"
      ]
     },
     "execution_count": 6,
     "metadata": {},
     "output_type": "execute_result"
    }
   ],
   "source": [
    "# creates an empty dataframe with columns Majors, Midterm, Final, Final Average\n",
    "majors = df['Majors'].unique()\n",
    "col_names = ['Majors', 'Midterm', 'Final', 'Final Average']\n",
    "majors_df = pd.DataFrame(columns = col_names)\n",
    "majors_df['Majors'] = majors\n",
    "majors_df"
   ]
  },
  {
   "cell_type": "code",
   "execution_count": 7,
   "metadata": {},
   "outputs": [
    {
     "name": "stdout",
     "output_type": "stream",
     "text": [
      "90.5\n",
      "72.69999999999999\n"
     ]
    }
   ],
   "source": [
    "# function to get the median of a column constrained by the major\n",
    "def get_median(df, col, major):\n",
    "    col_major = df.loc[ df['Majors'] == major ] \n",
    "    median = col_major[col].median()\n",
    "    return median\n",
    "\n",
    "test = get_median(df, 'Final', 'BNFO')\n",
    "print(test)\n",
    "test = get_median(df, 'Final Average', 'CS')\n",
    "print(test)"
   ]
  },
  {
   "cell_type": "code",
   "execution_count": 8,
   "metadata": {},
   "outputs": [
    {
     "data": {
      "text/html": [
       "<div>\n",
       "<style scoped>\n",
       "    .dataframe tbody tr th:only-of-type {\n",
       "        vertical-align: middle;\n",
       "    }\n",
       "\n",
       "    .dataframe tbody tr th {\n",
       "        vertical-align: top;\n",
       "    }\n",
       "\n",
       "    .dataframe thead th {\n",
       "        text-align: right;\n",
       "    }\n",
       "</style>\n",
       "<table border=\"1\" class=\"dataframe\">\n",
       "  <thead>\n",
       "    <tr style=\"text-align: right;\">\n",
       "      <th></th>\n",
       "      <th>Majors</th>\n",
       "      <th>Midterm</th>\n",
       "      <th>Final</th>\n",
       "      <th>Final Average</th>\n",
       "    </tr>\n",
       "  </thead>\n",
       "  <tbody>\n",
       "    <tr>\n",
       "      <td>0</td>\n",
       "      <td>BNFO</td>\n",
       "      <td>87.5</td>\n",
       "      <td>90.5</td>\n",
       "      <td>75.05</td>\n",
       "    </tr>\n",
       "    <tr>\n",
       "      <td>1</td>\n",
       "      <td>MATH</td>\n",
       "      <td>84.5</td>\n",
       "      <td>80.5</td>\n",
       "      <td>74.3</td>\n",
       "    </tr>\n",
       "    <tr>\n",
       "      <td>2</td>\n",
       "      <td>IS</td>\n",
       "      <td>73</td>\n",
       "      <td>81</td>\n",
       "      <td>71.8</td>\n",
       "    </tr>\n",
       "    <tr>\n",
       "      <td>3</td>\n",
       "      <td>CS</td>\n",
       "      <td>82</td>\n",
       "      <td>74.5</td>\n",
       "      <td>72.7</td>\n",
       "    </tr>\n",
       "    <tr>\n",
       "      <td>4</td>\n",
       "      <td>IT</td>\n",
       "      <td>82.5</td>\n",
       "      <td>80.5</td>\n",
       "      <td>74.8</td>\n",
       "    </tr>\n",
       "  </tbody>\n",
       "</table>\n",
       "</div>"
      ],
      "text/plain": [
       "  Majors Midterm Final Final Average\n",
       "0   BNFO    87.5  90.5         75.05\n",
       "1   MATH    84.5  80.5          74.3\n",
       "2     IS      73    81          71.8\n",
       "3     CS      82  74.5          72.7\n",
       "4     IT    82.5  80.5          74.8"
      ]
     },
     "execution_count": 8,
     "metadata": {},
     "output_type": "execute_result"
    }
   ],
   "source": [
    "# fill in the majors_df with approproate values\n",
    "for major in majors_df['Majors']:\n",
    "    midterm_med = get_median(df, 'Midterm', major)\n",
    "    final_med = get_median(df, 'Final', major)\n",
    "    final_avg_med = get_median(df, 'Final Average', major)\n",
    "    majors_df.loc[ (majors_df['Majors'] == major), 'Midterm' ] = midterm_med\n",
    "    majors_df.loc[ (majors_df['Majors'] == major), 'Final' ] = final_med\n",
    "    majors_df.loc[ (majors_df['Majors'] == major), 'Final Average' ] = final_avg_med\n",
    "\n",
    "majors_df"
   ]
  },
  {
   "cell_type": "code",
   "execution_count": 10,
   "metadata": {},
   "outputs": [
    {
     "data": {
      "image/png": "[encoded data removed]",
      "text/plain": [
       "<Figure size 864x432 with 2 Axes>"
      ]
     },
     "metadata": {
      "needs_background": "light"
     },
     "output_type": "display_data"
    }
   ],
   "source": [
    "# plot the majors_df bar graph\n",
    "\n",
    "fig, ax = plt.subplots(figsize=(12, 8))\n",
    "x = np.arange(5)\n",
    "ax = fig.add_axes([0,0,1,1])\n",
    "bar_width = 0.5\n",
    "ax.bar(x + 0.00, majors_df['Midterm'], color = 'r', width = 0.25)\n",
    "ax.bar(x + 0.25, majors_df['Final'], color = 'g', width = 0.25)\n",
    "ax.bar(x + 0.50, majors_df['Final Average'], color = 'b', width = 0.25)\n",
    "plt.gcf().set_size_inches(12, 6)\n",
    "plt.ylabel('Median Score')\n",
    "plt.xlabel('Major')\n",
    "ax.set_xticks(x + bar_width / 2)\n",
    "ax.set_xticklabels(majors_df['Majors'])\n",
    "plt.title('Median Midterm, Final, and Final Average Scores')\n",
    "plt.show()"
   ]
  },
  {
   "cell_type": "markdown",
   "metadata": {},
   "source": [
    "- Data items are the majors--> (BNFO, MATH, IS, CS, IT)\n",
    "- Attributes are the median scores for Midterm, Final, and Final Average which are all quantitative data \n",
    "- Marks --> bar areas\n",
    "- Channels --> vertical position of the bars, grouping of the bars per major, and the different colors\n",
    "\n",
    "It would appear that those majoring in BNFO are doing better than the rest of the majors because BNFO has more bars that appear higher than the rest. It looks like IS majors are doing the worst because their bars are lower than the rest. The group of bars have a very starck contrast coming from the colors that adds emphasis to the length of the bar. If there were values above the bars, it may be easier to tell the difference between the bars."
   ]
  },
  {
   "cell_type": "markdown",
   "metadata": {},
   "source": [
    "## Problem 2"
   ]
  },
  {
   "cell_type": "code",
   "execution_count": 20,
   "metadata": {},
   "outputs": [
    {
     "data": {
      "text/html": [
       "<div>\n",
       "<style scoped>\n",
       "    .dataframe tbody tr th:only-of-type {\n",
       "        vertical-align: middle;\n",
       "    }\n",
       "\n",
       "    .dataframe tbody tr th {\n",
       "        vertical-align: top;\n",
       "    }\n",
       "\n",
       "    .dataframe thead th {\n",
       "        text-align: right;\n",
       "    }\n",
       "</style>\n",
       "<table border=\"1\" class=\"dataframe\">\n",
       "  <thead>\n",
       "    <tr style=\"text-align: right;\">\n",
       "      <th></th>\n",
       "      <th>Name</th>\n",
       "      <th>Midterm</th>\n",
       "      <th>Final</th>\n",
       "      <th>Attendance</th>\n",
       "      <th>HW</th>\n",
       "      <th>Final Average</th>\n",
       "      <th>Final Letter</th>\n",
       "      <th>Numeric Bin</th>\n",
       "      <th>Majors</th>\n",
       "    </tr>\n",
       "  </thead>\n",
       "  <tbody>\n",
       "    <tr>\n",
       "      <td>0</td>\n",
       "      <td>Ariel</td>\n",
       "      <td>89</td>\n",
       "      <td>92</td>\n",
       "      <td>9</td>\n",
       "      <td>9</td>\n",
       "      <td>86.0</td>\n",
       "      <td>B+</td>\n",
       "      <td>80.0</td>\n",
       "      <td>BNFO</td>\n",
       "    </tr>\n",
       "    <tr>\n",
       "      <td>1</td>\n",
       "      <td>Brody</td>\n",
       "      <td>92</td>\n",
       "      <td>93</td>\n",
       "      <td>10</td>\n",
       "      <td>9</td>\n",
       "      <td>89.0</td>\n",
       "      <td>A</td>\n",
       "      <td>80.0</td>\n",
       "      <td>BNFO</td>\n",
       "    </tr>\n",
       "    <tr>\n",
       "      <td>2</td>\n",
       "      <td>Debra</td>\n",
       "      <td>76</td>\n",
       "      <td>88</td>\n",
       "      <td>8</td>\n",
       "      <td>6</td>\n",
       "      <td>74.0</td>\n",
       "      <td>C+</td>\n",
       "      <td>70.0</td>\n",
       "      <td>MATH</td>\n",
       "    </tr>\n",
       "    <tr>\n",
       "      <td>3</td>\n",
       "      <td>Rex</td>\n",
       "      <td>90</td>\n",
       "      <td>83</td>\n",
       "      <td>10</td>\n",
       "      <td>10</td>\n",
       "      <td>88.0</td>\n",
       "      <td>B+</td>\n",
       "      <td>80.0</td>\n",
       "      <td>MATH</td>\n",
       "    </tr>\n",
       "    <tr>\n",
       "      <td>4</td>\n",
       "      <td>Jerry</td>\n",
       "      <td>67</td>\n",
       "      <td>85</td>\n",
       "      <td>7</td>\n",
       "      <td>5</td>\n",
       "      <td>66.0</td>\n",
       "      <td>D</td>\n",
       "      <td>60.0</td>\n",
       "      <td>BNFO</td>\n",
       "    </tr>\n",
       "  </tbody>\n",
       "</table>\n",
       "</div>"
      ],
      "text/plain": [
       "    Name  Midterm  Final  Attendance  HW  Final Average Final Letter  \\\n",
       "0  Ariel       89     92           9   9           86.0           B+   \n",
       "1  Brody       92     93          10   9           89.0            A   \n",
       "2  Debra       76     88           8   6           74.0           C+   \n",
       "3    Rex       90     83          10  10           88.0           B+   \n",
       "4  Jerry       67     85           7   5           66.0            D   \n",
       "\n",
       "   Numeric Bin Majors  \n",
       "0         80.0   BNFO  \n",
       "1         80.0   BNFO  \n",
       "2         70.0   MATH  \n",
       "3         80.0   MATH  \n",
       "4         60.0   BNFO  "
      ]
     },
     "execution_count": 20,
     "metadata": {},
     "output_type": "execute_result"
    }
   ],
   "source": [
    "df.head()"
   ]
  },
  {
   "cell_type": "code",
   "execution_count": 40,
   "metadata": {},
   "outputs": [
    {
     "data": {
      "image/png": "[encoded data removed]",
      "text/plain": [
       "<Figure size 864x432 with 1 Axes>"
      ]
     },
     "metadata": {
      "needs_background": "light"
     },
     "output_type": "display_data"
    }
   ],
   "source": [
    "num_bins = 6\n",
    "x = df['Numeric Bin']\n",
    "\n",
    "n, bins, patches = plt.hist(x, num_bins, alpha=0.75, facecolor='blue')\n",
    "plt.ylabel('Frequency')\n",
    "plt.xlabel('Grade')\n",
    "plt.title('Number of Students in Each Grade Bin')\n",
    "plt.gcf().set_size_inches(12, 6)\n",
    "plt.tight_layout()\n",
    "plt.show()"
   ]
  },
  {
   "cell_type": "markdown",
   "metadata": {},
   "source": [
    "- Data items are the Number of Students in each Grade Bin \n",
    "- Attributes are the frequency for each Grade Bin which is all quantitative/numerical data \n",
    "- Marks --> bar areas\n",
    "- Channels --> vertical position of the bars, and the colors of the bar\n",
    "\n",
    "I would add more clear labelling, what grades are looking at specifically(Final, Midterm, Average, etc) and possibly add the total of each bar at the top each bar. The histogram looks skewed left as most of data appears towards the right of the graph."
   ]
  },
  {
   "cell_type": "markdown",
   "metadata": {},
   "source": [
    "## Problem 3"
   ]
  },
  {
   "cell_type": "code",
   "execution_count": 43,
   "metadata": {},
   "outputs": [
    {
     "data": {
      "text/html": [
       "<div>\n",
       "<style scoped>\n",
       "    .dataframe tbody tr th:only-of-type {\n",
       "        vertical-align: middle;\n",
       "    }\n",
       "\n",
       "    .dataframe tbody tr th {\n",
       "        vertical-align: top;\n",
       "    }\n",
       "\n",
       "    .dataframe thead th {\n",
       "        text-align: right;\n",
       "    }\n",
       "</style>\n",
       "<table border=\"1\" class=\"dataframe\">\n",
       "  <thead>\n",
       "    <tr style=\"text-align: right;\">\n",
       "      <th></th>\n",
       "      <th>Name</th>\n",
       "      <th>Midterm</th>\n",
       "      <th>Final</th>\n",
       "      <th>Attendance</th>\n",
       "      <th>HW</th>\n",
       "      <th>Final Average</th>\n",
       "      <th>Final Letter</th>\n",
       "      <th>Numeric Bin</th>\n",
       "      <th>Majors</th>\n",
       "    </tr>\n",
       "  </thead>\n",
       "  <tbody>\n",
       "    <tr>\n",
       "      <td>0</td>\n",
       "      <td>Ariel</td>\n",
       "      <td>89</td>\n",
       "      <td>92</td>\n",
       "      <td>9</td>\n",
       "      <td>9</td>\n",
       "      <td>86.0</td>\n",
       "      <td>B+</td>\n",
       "      <td>80.0</td>\n",
       "      <td>BNFO</td>\n",
       "    </tr>\n",
       "    <tr>\n",
       "      <td>1</td>\n",
       "      <td>Brody</td>\n",
       "      <td>92</td>\n",
       "      <td>93</td>\n",
       "      <td>10</td>\n",
       "      <td>9</td>\n",
       "      <td>89.0</td>\n",
       "      <td>A</td>\n",
       "      <td>80.0</td>\n",
       "      <td>BNFO</td>\n",
       "    </tr>\n",
       "    <tr>\n",
       "      <td>2</td>\n",
       "      <td>Debra</td>\n",
       "      <td>76</td>\n",
       "      <td>88</td>\n",
       "      <td>8</td>\n",
       "      <td>6</td>\n",
       "      <td>74.0</td>\n",
       "      <td>C+</td>\n",
       "      <td>70.0</td>\n",
       "      <td>MATH</td>\n",
       "    </tr>\n",
       "    <tr>\n",
       "      <td>3</td>\n",
       "      <td>Rex</td>\n",
       "      <td>90</td>\n",
       "      <td>83</td>\n",
       "      <td>10</td>\n",
       "      <td>10</td>\n",
       "      <td>88.0</td>\n",
       "      <td>B+</td>\n",
       "      <td>80.0</td>\n",
       "      <td>MATH</td>\n",
       "    </tr>\n",
       "    <tr>\n",
       "      <td>4</td>\n",
       "      <td>Jerry</td>\n",
       "      <td>67</td>\n",
       "      <td>85</td>\n",
       "      <td>7</td>\n",
       "      <td>5</td>\n",
       "      <td>66.0</td>\n",
       "      <td>D</td>\n",
       "      <td>60.0</td>\n",
       "      <td>BNFO</td>\n",
       "    </tr>\n",
       "  </tbody>\n",
       "</table>\n",
       "</div>"
      ],
      "text/plain": [
       "    Name  Midterm  Final  Attendance  HW  Final Average Final Letter  \\\n",
       "0  Ariel       89     92           9   9           86.0           B+   \n",
       "1  Brody       92     93          10   9           89.0            A   \n",
       "2  Debra       76     88           8   6           74.0           C+   \n",
       "3    Rex       90     83          10  10           88.0           B+   \n",
       "4  Jerry       67     85           7   5           66.0            D   \n",
       "\n",
       "   Numeric Bin Majors  \n",
       "0         80.0   BNFO  \n",
       "1         80.0   BNFO  \n",
       "2         70.0   MATH  \n",
       "3         80.0   MATH  \n",
       "4         60.0   BNFO  "
      ]
     },
     "execution_count": 43,
     "metadata": {},
     "output_type": "execute_result"
    }
   ],
   "source": [
    "df.head()"
   ]
  },
  {
   "cell_type": "code",
   "execution_count": 52,
   "metadata": {},
   "outputs": [
    {
     "data": {
      "image/png": "[encoded data removed]",
      "text/plain": [
       "<Figure size 864x432 with 1 Axes>"
      ]
     },
     "metadata": {
      "needs_background": "light"
     },
     "output_type": "display_data"
    }
   ],
   "source": [
    "plt.scatter(df['Midterm'], df['Final Average'], color='r')\n",
    "plt.scatter(df['Final'], df['Final Average'], color='b')\n",
    "plt.gcf().set_size_inches(12, 6)\n",
    "plt.ylabel('Final Average')\n",
    "plt.xlabel('Exam Score')\n",
    "plt.title('Exam vs Final Average')\n",
    "plt.tight_layout()\n",
    "plt.show()"
   ]
  },
  {
   "cell_type": "markdown",
   "metadata": {},
   "source": [
    "- Data items are the Final and Midterm Exam Scores for each student\n",
    "- Attributes are the Final Average score associated with the exam scores which is quantitative/numerical data\n",
    "- Marks --> scatter points\n",
    "- Channels --> x & y position of each point, and the different colors used to distinguish points\n",
    "\n",
    "Its very hard to tell whether the midterm & final exam scores are indictive of the final avg. score because there is no correlation that is deterministic. A scatter plot only suggests that there may be a correlation. It appears that the higher the midterm/final grade, the higher the final avg. If we were to plot a trendline, there would be too many points far away from the line."
   ]
  }
 ],
 "metadata": {
  "kernelspec": {
   "display_name": "Python 3",
   "language": "python",
   "name": "python3"
  },
  "language_info": {
   "codemirror_mode": {
    "name": "ipython",
    "version": 3
   },
   "file_extension": ".py",
   "mimetype": "text/x-python",
   "name": "python",
   "nbconvert_exporter": "python",
   "pygments_lexer": "ipython3",
   "version": "3.7.4"
  }
 },
 "nbformat": 4,
 "nbformat_minor": 2
}
