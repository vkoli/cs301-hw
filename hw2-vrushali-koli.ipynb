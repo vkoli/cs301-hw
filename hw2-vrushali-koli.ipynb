{
 "cells": [
  {
   "cell_type": "code",
   "execution_count": null,
   "metadata": {},
   "outputs": [],
   "source": [
    "# Author: Vrushali Ritesh Koli\n",
    "# Date: 2020/01/29\n",
    "# CS301-006, Professor Watson\n",
    "# HW2 Solution\n",
    "# A simple implementation of numpy to calculate the 5 number summary\n",
    "# Link to git repo\n",
    "# Link to relevant git commit\n",
    "# name of the branch"
   ]
  },
  {
   "cell_type": "code",
   "execution_count": 7,
   "metadata": {},
   "outputs": [],
   "source": [
    "grades = sorted([0, 0, 14, 35, 63, 66, 75, 77, 78, 80, 81, 81, 87, 89, 90, 91, 100])"
   ]
  },
  {
   "cell_type": "code",
   "execution_count": 2,
   "metadata": {},
   "outputs": [],
   "source": [
    "times = [5, 10, 10, 15, 15, 15, 15, 20, 20, 20, 25, 30, 30, 40, 40, 45, 60, 60, 65, 89]"
   ]
  },
  {
   "cell_type": "markdown",
   "metadata": {},
   "source": [
    "### Problem 2"
   ]
  },
  {
   "cell_type": "code",
   "execution_count": 3,
   "metadata": {},
   "outputs": [],
   "source": [
    "import numpy as np\n",
    "\n",
    "def q_summary_V1(numbers):\n",
    "    outliers = []\n",
    "    dict = {}\n",
    "    arr = np.asarray(numbers)\n",
    "    q1 = np.quantile(arr, .25)\n",
    "    dict[\"q1\"] = q1\n",
    "    q2 = np.quantile(arr, .50)\n",
    "    dict[\"q2\"] = q2\n",
    "    q3 = np.quantile(arr, .75)\n",
    "    dict[\"q3\"] = q3\n",
    "    \n",
    "    iqr = q3 - q1\n",
    "    lowerbound = q1 - (1.5 * iqr)\n",
    "    upperbound = q3 + (1.5 * iqr)\n",
    "    \n",
    "    i, j = 0,0 # to keep track of outliers\n",
    "    for x in arr:\n",
    "        if x < lowerbound:\n",
    "            outliers.append(x)\n",
    "            i+=1\n",
    "        if x > upperbound:\n",
    "            outliers.append(x)\n",
    "            j+=1\n",
    "    dict[\"min\"] = arr[0 + i]\n",
    "    dict[\"max\"] = arr[-1 - j]\n",
    "    \n",
    "    print(\"The following are outliers: \" + str(outliers))\n",
    "    return dict"
   ]
  },
  {
   "cell_type": "code",
   "execution_count": 8,
   "metadata": {},
   "outputs": [
    {
     "name": "stdout",
     "output_type": "stream",
     "text": [
      "The following are outliers: [0, 0, 14]\n",
      "{'q1': 63.0, 'q2': 78.0, 'q3': 87.0, 'min': 35, 'max': 100}\n",
      "The following are outliers: [89]\n",
      "{'q1': 15.0, 'q2': 22.5, 'q3': 41.25, 'min': 5, 'max': 65}\n"
     ]
    }
   ],
   "source": [
    "print(q_summary_V1(grades))\n",
    "print(q_summary_V1(times))"
   ]
  },
  {
   "cell_type": "markdown",
   "metadata": {},
   "source": [
    "### Problem 3"
   ]
  },
  {
   "cell_type": "code",
   "execution_count": 10,
   "metadata": {},
   "outputs": [],
   "source": [
    "def get_quantile_indexes(n, p):\n",
    "    '''\n",
    "    Calculate index values as input for interpolation\n",
    "    \n",
    "    input\n",
    "    _____\n",
    "    n (list) - the list of numbers\n",
    "    p (float) - the percentage corresponding to the quantile (ex:0.25)\n",
    "    \n",
    "    output\n",
    "    ______\n",
    "    l, i, u (float) - the corresponding x1, x, x1 values as calculated via class\n",
    "    '''\n",
    "    i = p*(n+1) - 1\n",
    "    l = np.floor(i)\n",
    "    u = np.ceil(i)\n",
    "    return l,i,u\n",
    "\n",
    "\n",
    "def get_quantile(nums, q):\n",
    "    '''\n",
    "    Use the in-class method of interpolation to calculate the quantile\n",
    "    \n",
    "    input\n",
    "    _____\n",
    "    nums (list) - the list of numbers\n",
    "    q (float) - the quantile desired\n",
    "    \n",
    "    output\n",
    "    ______\n",
    "    y (int/float) - this is the value in nums at the given quantile q\n",
    "    '''\n",
    "    x1, x, x2 = get_quantile_indexes(len(nums), q)\n",
    "    if np.floor(x) == x1 and np.ceil(x) == x1:\n",
    "        x = int(x)\n",
    "        y = nums[x]\n",
    "        # print('x = {}, y = {}'.format(x, y))\n",
    "        return y\n",
    "        \n",
    "    # print('x1, x, x2 = {}, {}, {}'.format(x1, x, x2))\n",
    "    y1, y2 = nums[int(x1)], nums[int(x2)]\n",
    "    # print('y1, y2 = {}, {}'.format(y1, y2))\n",
    "    y = (x - x1) * (y1-y2) / (x1 - x2) + y1\n",
    "    # print('y =', y)\n",
    "    return y"
   ]
  },
  {
   "cell_type": "code",
   "execution_count": 26,
   "metadata": {},
   "outputs": [],
   "source": [
    "import numpy as np\n",
    "\n",
    "def q_summary_V2(numbers):\n",
    "    dict = {}\n",
    "    outliers = []\n",
    "    arr = np.asarray(numbers)\n",
    "    \n",
    "    q1 = get_quantile(arr, 0.25)\n",
    "    q2 = get_quantile(arr, 0.50)\n",
    "    q3 = get_quantile(arr, 0.75)\n",
    "    \n",
    "    dict[\"q1\"] = q1\n",
    "    dict[\"q2\"] = q2\n",
    "    dict[\"q3\"] = q3\n",
    "    \n",
    "    iqr = q3 - q1\n",
    "    lowerbound = q1 - (1.5 * iqr)\n",
    "    upperbound = q3 + (1.5 * iqr)\n",
    "    \n",
    "    i, j = 0,0 # to keep track of outliers\n",
    "    for x in numbers:\n",
    "        if x < lowerbound:\n",
    "            outliers.append(x)\n",
    "            i+=1\n",
    "        if x > upperbound:\n",
    "            outliers.append(x)\n",
    "            j+=1\n",
    "    dict[\"min\"] = arr[0 + i]\n",
    "    dict[\"max\"] = arr[-1 - j]\n",
    "    \n",
    "    if len(outliers) != 0:\n",
    "        print(\"The following are outliers: \" + str(outliers))\n",
    "    return dict"
   ]
  },
  {
   "cell_type": "code",
   "execution_count": 27,
   "metadata": {},
   "outputs": [
    {
     "name": "stdout",
     "output_type": "stream",
     "text": [
      "{'q1': 49.0, 'q2': 78, 'q3': 88.0, 'min': 0, 'max': 100}\n",
      "The following are outliers: [89]\n",
      "{'q1': 15.0, 'q2': 22.5, 'q3': 43.75, 'min': 5, 'max': 65}\n"
     ]
    }
   ],
   "source": [
    "print(q_summary_V2(grades))\n",
    "print(q_summary_V2(times))"
   ]
  }
 ],
 "metadata": {
  "kernelspec": {
   "display_name": "Python 2",
   "language": "python",
   "name": "python2"
  },
  "language_info": {
   "codemirror_mode": {
    "name": "ipython",
    "version": 3
   },
   "file_extension": ".py",
   "mimetype": "text/x-python",
   "name": "python",
   "nbconvert_exporter": "python",
   "pygments_lexer": "ipython3",
   "version": "3.7.4"
  }
 },
 "nbformat": 4,
 "nbformat_minor": 2
}
