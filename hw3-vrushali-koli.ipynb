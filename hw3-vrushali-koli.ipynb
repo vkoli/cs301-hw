{
 "cells": [
  {
   "cell_type": "code",
   "execution_count": 5,
   "metadata": {},
   "outputs": [],
   "source": [
    "# Author: Vrushali Ritesh Koli\n",
    "# Date: 2020/02/17\n",
    "# CS301-006, Professor Watson\n",
    "# HW3 Solution\n",
    "# A simple implementation of pandas to read data from a csv file\n",
    "# https://github.com/vkoli/cs301-hw\n",
    "# master"
   ]
  },
  {
   "cell_type": "code",
   "execution_count": 5,
   "metadata": {},
   "outputs": [],
   "source": [
    "import numpy as np\n",
    "import pandas as pd"
   ]
  },
  {
   "cell_type": "markdown",
   "metadata": {},
   "source": [
    "### Problem 1"
   ]
  },
  {
   "cell_type": "code",
   "execution_count": 6,
   "metadata": {},
   "outputs": [
    {
     "name": "stdout",
     "output_type": "stream",
     "text": [
      "The shape is: (193, 6)\n",
      "Error during reading, please try again\n"
     ]
    }
   ],
   "source": [
    "def data_path(pathname):\n",
    "    try:\n",
    "        data_df = pd.read_csv(pathname)\n",
    "        print(\"The shape is: \" + str(data_df.shape))\n",
    "        return data_df\n",
    "    except IOError:\n",
    "        print(\"Error during reading, please try again\")\n",
    "\n",
    "data_df = data_path(\"/home/toph/Documents/cs301/drinks.csv\")           \n",
    "data_df_bad = data_path(\"i_dont_exist.csv\")                 "
   ]
  },
  {
   "cell_type": "markdown",
   "metadata": {},
   "source": [
    "### Problem 2"
   ]
  },
  {
   "cell_type": "code",
   "execution_count": 19,
   "metadata": {},
   "outputs": [
    {
     "name": "stdout",
     "output_type": "stream",
     "text": [
      "26\n"
     ]
    }
   ],
   "source": [
    "def get_num_outliers(df, col):\n",
    "    # Get q1, q3 to calculate lower & upper bounds\n",
    "    q1 = df[col].quantile(0.25)\n",
    "    q3 = df[col].quantile(0.75)\n",
    "    iqr = q3 - q1\n",
    "    lower = q1 - 1.5 * iqr\n",
    "    upper = q3 + 1.5 * iqr\n",
    "    \n",
    "    #save the result in a dataframe and count the num. of rows\n",
    "    lst = df.loc[(df[col] < lower) | (df[col] > upper)]\n",
    "    num_outliers = lst.shape[0]\n",
    "    \n",
    "    return num_outliers\n",
    "        \n",
    "print(str(get_num_outliers(data_df, 'wine_servings')))"
   ]
  },
  {
   "cell_type": "markdown",
   "metadata": {},
   "source": [
    "### Problem 3"
   ]
  },
  {
   "cell_type": "code",
   "execution_count": 21,
   "metadata": {},
   "outputs": [
    {
     "name": "stdout",
     "output_type": "stream",
     "text": [
      "28\n",
      "15\n"
     ]
    }
   ],
   "source": [
    "def get_num_deviants(df, col, mult):\n",
    "    std = df[col].std()\n",
    "    mean = df[col].mean()\n",
    "    \n",
    "    lower = mean - mult * std\n",
    "    upper = mean + mult * std\n",
    "    \n",
    "    lst = df.loc[(df[col] < lower) | (df[col] > upper)]\n",
    "    num = lst.shape[0]\n",
    "    \n",
    "    return num\n",
    "\n",
    "print(str(get_num_deviants(data_df, 'wine_servings', 1)))\n",
    "print(str(get_num_deviants(data_df, 'wine_servings', 2)))"
   ]
  },
  {
   "cell_type": "code",
   "execution_count": null,
   "metadata": {},
   "outputs": [],
   "source": []
  }
 ],
 "metadata": {
  "kernelspec": {
   "display_name": "Python 3",
   "language": "python",
   "name": "python3"
  },
  "language_info": {
   "codemirror_mode": {
    "name": "ipython",
    "version": 3
   },
   "file_extension": ".py",
   "mimetype": "text/x-python",
   "name": "python",
   "nbconvert_exporter": "python",
   "pygments_lexer": "ipython3",
   "version": "3.7.4"
  }
 },
 "nbformat": 4,
 "nbformat_minor": 2
}
